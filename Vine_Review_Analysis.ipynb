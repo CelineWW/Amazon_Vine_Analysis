{
  "nbformat": 4,
  "nbformat_minor": 0,
  "metadata": {
    "colab": {
      "provenance": [],
      "collapsed_sections": []
    },
    "kernelspec": {
      "name": "python3",
      "display_name": "Python 3"
    },
    "language_info": {
      "name": "python"
    }
  },
  "cells": [
    {
      "cell_type": "code",
      "execution_count": 1,
      "metadata": {
        "colab": {
          "base_uri": "https://localhost:8080/"
        },
        "id": "qiKiZz8Ls4r5",
        "outputId": "f0bed9a2-50f9-4461-9f33-fae4f6311481"
      },
      "outputs": [
        {
          "output_type": "stream",
          "name": "stdout",
          "text": [
            "\r0% [Working]\r            \rHit:1 https://cloud.r-project.org/bin/linux/ubuntu bionic-cran40/ InRelease\n",
            "\r0% [Waiting for headers] [Connecting to security.ubuntu.com (185.125.190.39)] [\r0% [1 InRelease gpgv 3,626 B] [Waiting for headers] [Connecting to security.ubu\r                                                                               \rHit:2 http://archive.ubuntu.com/ubuntu bionic InRelease\n",
            "\r0% [1 InRelease gpgv 3,626 B] [Connecting to security.ubuntu.com (185.125.190.3\r                                                                               \rIgn:3 https://developer.download.nvidia.com/compute/machine-learning/repos/ubuntu1804/x86_64  InRelease\n",
            "\r0% [1 InRelease gpgv 3,626 B] [Waiting for headers] [Connecting to security.ubu\r                                                                               \rHit:4 http://archive.ubuntu.com/ubuntu bionic-updates InRelease\n",
            "\r0% [1 InRelease gpgv 3,626 B] [Waiting for headers] [Connecting to security.ubu\r                                                                               \rHit:5 https://developer.download.nvidia.com/compute/cuda/repos/ubuntu1804/x86_64  InRelease\n",
            "\r0% [1 InRelease gpgv 3,626 B] [Waiting for headers] [Connecting to security.ubu\r                                                                               \rHit:6 https://developer.download.nvidia.com/compute/machine-learning/repos/ubuntu1804/x86_64  Release\n",
            "Hit:7 http://archive.ubuntu.com/ubuntu bionic-backports InRelease\n",
            "Hit:8 http://ppa.launchpad.net/c2d4u.team/c2d4u4.0+/ubuntu bionic InRelease\n",
            "Hit:9 http://security.ubuntu.com/ubuntu bionic-security InRelease\n",
            "Hit:10 http://ppa.launchpad.net/cran/libgit2/ubuntu bionic InRelease\n",
            "Hit:11 http://ppa.launchpad.net/deadsnakes/ppa/ubuntu bionic InRelease\n",
            "Hit:12 http://ppa.launchpad.net/graphics-drivers/ppa/ubuntu bionic InRelease\n",
            "Reading package lists... Done\n"
          ]
        }
      ],
      "source": [
        "import os\n",
        "# Find the latest version of spark 3.0 from http://www.apache.org/dist/spark/ and enter as the spark version\n",
        "# For example:\n",
        "# spark_version = 'spark-3.0.3'\n",
        "spark_version = 'spark-3.3.0'\n",
        "os.environ['SPARK_VERSION']=spark_version\n",
        "\n",
        "# Install Spark and Java\n",
        "!apt-get update\n",
        "!apt-get install openjdk-11-jdk-headless -qq > /dev/null\n",
        "!wget -q http://www.apache.org/dist/spark/$SPARK_VERSION/$SPARK_VERSION-bin-hadoop3.tgz\n",
        "!tar xf $SPARK_VERSION-bin-hadoop3.tgz\n",
        "!pip install -q findspark\n",
        "\n",
        "# Set Environment Variables\n",
        "import os\n",
        "os.environ[\"JAVA_HOME\"] = \"/usr/lib/jvm/java-11-openjdk-amd64\"\n",
        "os.environ[\"SPARK_HOME\"] = f\"/content/{spark_version}-bin-hadoop3\"\n",
        "\n",
        "# Start a SparkSession\n",
        "import findspark\n",
        "findspark.init()"
      ]
    },
    {
      "cell_type": "code",
      "source": [
        "# Start Spark session\n",
        "from pyspark.sql import SparkSession\n",
        "spark = SparkSession.builder.appName(\"Vine_Review_Analysis\").getOrCreate()"
      ],
      "metadata": {
        "id": "dJDkbb_ZtttK"
      },
      "execution_count": 2,
      "outputs": []
    },
    {
      "cell_type": "code",
      "source": [
        "# Read in data from S3 Buckets\n",
        "from pyspark import SparkFiles\n",
        "url =\"https://celine-bucket.s3.amazonaws.com/vine_table.csv\"\n",
        "spark.sparkContext.addFile(url)\n",
        "df = spark.read.csv(SparkFiles.get(\"vine_table.csv\"), sep=\",\", header=True)\n",
        "\n",
        "# Show DataFrame\n",
        "df.show()"
      ],
      "metadata": {
        "colab": {
          "base_uri": "https://localhost:8080/"
        },
        "id": "LZbX6nJot1jO",
        "outputId": "be7d3361-6500-4fb4-ddbd-052eeb574cb7"
      },
      "execution_count": 3,
      "outputs": [
        {
          "output_type": "stream",
          "name": "stdout",
          "text": [
            "+--------------+-----------+-------------+-----------+----+-----------------+\n",
            "|     review_id|star_rating|helpful_votes|total_votes|vine|verified_purchase|\n",
            "+--------------+-----------+-------------+-----------+----+-----------------+\n",
            "|R18RVCKGH1SSI9|          5|            0|          0|   N|                Y|\n",
            "|R3L4L6LW1PUOFY|          5|            0|          1|   N|                Y|\n",
            "|R2J8AWXWTDX2TF|          5|            0|          0|   N|                Y|\n",
            "|R1PR37BR7G3M6A|          1|            2|          3|   N|                Y|\n",
            "|R3BDDDZMZBZDPU|          4|            0|          0|   N|                Y|\n",
            "| R8T6MO75ND212|          5|            0|          0|   N|                Y|\n",
            "|R2YWMQT2V11XYZ|          5|            0|          0|   N|                N|\n",
            "|R1V2HYL6OI9V39|          5|            6|          6|   N|                Y|\n",
            "|R3BLQBKUNXGFS4|          5|            0|          0|   N|                Y|\n",
            "|R17MOWJCAR9Y8Q|          5|            0|          0|   N|                Y|\n",
            "|R11EPG1GHOXMGB|          4|            0|          0|   N|                N|\n",
            "|R2797NKTEX5THN|          5|            0|          0|   N|                Y|\n",
            "|R2RUTMJS50E4WF|          5|            0|          0|   N|                Y|\n",
            "|R1FZYL1HX7O4RM|          1|            0|          0|   N|                Y|\n",
            "|R22ENT0KU5CHPX|          5|            0|          0|   N|                Y|\n",
            "|R2E5M7FWJC9JLE|          5|            0|          0|   N|                Y|\n",
            "|R31BNW3O2Q5J3E|          5|            0|          0|   N|                Y|\n",
            "|R1JMQF1OOMNF49|          5|            0|          0|   N|                Y|\n",
            "| RJH6WQDOA6CZP|          5|            0|          0|   N|                Y|\n",
            "|R2EVL0Z5JVV86X|          5|            0|          0|   N|                Y|\n",
            "+--------------+-----------+-------------+-----------+----+-----------------+\n",
            "only showing top 20 rows\n",
            "\n"
          ]
        }
      ]
    },
    {
      "cell_type": "code",
      "source": [
        "all_review = df.count()\n",
        "all_review"
      ],
      "metadata": {
        "id": "Vo_2HMPc_6PV",
        "colab": {
          "base_uri": "https://localhost:8080/"
        },
        "outputId": "7d010b18-2743-458a-8567-de9819da31bd"
      },
      "execution_count": 4,
      "outputs": [
        {
          "output_type": "execute_result",
          "data": {
            "text/plain": [
              "2642434"
            ]
          },
          "metadata": {},
          "execution_count": 4
        }
      ]
    },
    {
      "cell_type": "code",
      "source": [
        "# 1.Retrieve the rows where the total_votes count is equal to or greater than 20 \n",
        "valid_df = df.filter(\"total_votes >= 20\")\n",
        "valid_df.show()"
      ],
      "metadata": {
        "id": "0VCRQb2GxRjk",
        "colab": {
          "base_uri": "https://localhost:8080/"
        },
        "outputId": "40d061a0-46d5-4f81-aff6-16e04bf0e698"
      },
      "execution_count": 5,
      "outputs": [
        {
          "output_type": "stream",
          "name": "stdout",
          "text": [
            "+--------------+-----------+-------------+-----------+----+-----------------+\n",
            "|     review_id|star_rating|helpful_votes|total_votes|vine|verified_purchase|\n",
            "+--------------+-----------+-------------+-----------+----+-----------------+\n",
            "|R243UXMMSSZVS6|          2|          254|        254|   N|                Y|\n",
            "|R2P92EHR0S5GBB|          1|          110|        159|   N|                Y|\n",
            "| RN93Z4XPNAANY|          5|           31|         31|   N|                Y|\n",
            "|R1O74T9XO3OPQ4|          5|           38|         38|   N|                Y|\n",
            "|R3DMIHE5BMUT0R|          3|           21|         21|   N|                Y|\n",
            "|R1QWY17NLHQSB5|          5|           36|         36|   N|                Y|\n",
            "|R3LANI678T2YQS|          5|           39|         47|   N|                N|\n",
            "| RLV4XQ49EBYYU|          1|           56|         65|   N|                Y|\n",
            "| RPBPAJKFD0T26|          5|           63|         63|   N|                Y|\n",
            "|R1IHO8C56KBN6C|          1|           61|         64|   N|                Y|\n",
            "|R3HZT0MTHYQBU7|          1|          221|        221|   N|                Y|\n",
            "|R2ETWIKUXWV2FA|          1|           15|         32|   N|                Y|\n",
            "|R1M9644S4471JU|          5|           20|         20|   N|                Y|\n",
            "| R6FPJVAWQ472P|          5|           33|         34|   N|                Y|\n",
            "| RYQ3KOWJLYPWW|          4|           19|         20|   N|                Y|\n",
            "|R2J6UYRU7AX8NS|          5|           23|         24|   N|                Y|\n",
            "|R32Y1KGXWPHEVP|          5|           44|         44|   N|                N|\n",
            "|R3M14RO30UBS32|          2|           22|         30|   N|                Y|\n",
            "|R1FJ1LLYMAIINJ|          2|           27|         28|   N|                Y|\n",
            "| RB32OZDWJ1MXB|          1|          161|        170|   N|                Y|\n",
            "+--------------+-----------+-------------+-----------+----+-----------------+\n",
            "only showing top 20 rows\n",
            "\n"
          ]
        }
      ]
    },
    {
      "cell_type": "code",
      "source": [
        "valid_review = valid_df.count()\n",
        "valid_review"
      ],
      "metadata": {
        "id": "Lr8-r1RH__j4",
        "colab": {
          "base_uri": "https://localhost:8080/"
        },
        "outputId": "8c8dd754-1bff-4e9a-e6f6-82d3d405ebc7"
      },
      "execution_count": 6,
      "outputs": [
        {
          "output_type": "execute_result",
          "data": {
            "text/plain": [
              "48163"
            ]
          },
          "metadata": {},
          "execution_count": 6
        }
      ]
    },
    {
      "cell_type": "code",
      "source": [
        "# Change datatype of columns\n",
        "from pyspark.sql.functions import col\n",
        "valid_df = valid_df.withColumn(\"helpful_votes\", col(\"helpful_votes\").cast(\"float\"))\\\n",
        "                         .withColumn(\"total_votes\", col(\"total_votes\").cast(\"float\")) \n",
        "valid_df.printSchema()\n"
      ],
      "metadata": {
        "id": "OWYJLTkK9S4u",
        "colab": {
          "base_uri": "https://localhost:8080/"
        },
        "outputId": "b0679bb0-61c3-49c5-f9d7-2b5192a0912a"
      },
      "execution_count": 7,
      "outputs": [
        {
          "output_type": "stream",
          "name": "stdout",
          "text": [
            "root\n",
            " |-- review_id: string (nullable = true)\n",
            " |-- star_rating: string (nullable = true)\n",
            " |-- helpful_votes: float (nullable = true)\n",
            " |-- total_votes: float (nullable = true)\n",
            " |-- vine: string (nullable = true)\n",
            " |-- verified_purchase: string (nullable = true)\n",
            "\n"
          ]
        }
      ]
    },
    {
      "cell_type": "code",
      "source": [
        "# 2.Retrieve the rows where helpful_votes is more than 50%\n",
        "helpful_df = valid_df.filter(\"helpful_votes/total_votes >= 0.5\")\n",
        "helpful_df.show()"
      ],
      "metadata": {
        "id": "l2vmDGfO966C",
        "colab": {
          "base_uri": "https://localhost:8080/"
        },
        "outputId": "d779122e-f949-446f-a40d-6269d45838ae"
      },
      "execution_count": 8,
      "outputs": [
        {
          "output_type": "stream",
          "name": "stdout",
          "text": [
            "+--------------+-----------+-------------+-----------+----+-----------------+\n",
            "|     review_id|star_rating|helpful_votes|total_votes|vine|verified_purchase|\n",
            "+--------------+-----------+-------------+-----------+----+-----------------+\n",
            "|R243UXMMSSZVS6|          2|        254.0|      254.0|   N|                Y|\n",
            "|R2P92EHR0S5GBB|          1|        110.0|      159.0|   N|                Y|\n",
            "| RN93Z4XPNAANY|          5|         31.0|       31.0|   N|                Y|\n",
            "|R1O74T9XO3OPQ4|          5|         38.0|       38.0|   N|                Y|\n",
            "|R3DMIHE5BMUT0R|          3|         21.0|       21.0|   N|                Y|\n",
            "|R1QWY17NLHQSB5|          5|         36.0|       36.0|   N|                Y|\n",
            "|R3LANI678T2YQS|          5|         39.0|       47.0|   N|                N|\n",
            "| RLV4XQ49EBYYU|          1|         56.0|       65.0|   N|                Y|\n",
            "| RPBPAJKFD0T26|          5|         63.0|       63.0|   N|                Y|\n",
            "|R1IHO8C56KBN6C|          1|         61.0|       64.0|   N|                Y|\n",
            "|R3HZT0MTHYQBU7|          1|        221.0|      221.0|   N|                Y|\n",
            "|R1M9644S4471JU|          5|         20.0|       20.0|   N|                Y|\n",
            "| R6FPJVAWQ472P|          5|         33.0|       34.0|   N|                Y|\n",
            "| RYQ3KOWJLYPWW|          4|         19.0|       20.0|   N|                Y|\n",
            "|R2J6UYRU7AX8NS|          5|         23.0|       24.0|   N|                Y|\n",
            "|R32Y1KGXWPHEVP|          5|         44.0|       44.0|   N|                N|\n",
            "|R3M14RO30UBS32|          2|         22.0|       30.0|   N|                Y|\n",
            "|R1FJ1LLYMAIINJ|          2|         27.0|       28.0|   N|                Y|\n",
            "| RB32OZDWJ1MXB|          1|        161.0|      170.0|   N|                Y|\n",
            "|R1O5FVFCO6MEWX|          1|         41.0|       42.0|   N|                Y|\n",
            "+--------------+-----------+-------------+-----------+----+-----------------+\n",
            "only showing top 20 rows\n",
            "\n"
          ]
        }
      ]
    },
    {
      "cell_type": "code",
      "source": [
        "helpful_review = helpful_df.count()\n",
        "helpful_review"
      ],
      "metadata": {
        "id": "eoHFRTQtAD2E",
        "colab": {
          "base_uri": "https://localhost:8080/"
        },
        "outputId": "fd9805a2-708c-4be3-d92b-2d51651c383d"
      },
      "execution_count": 9,
      "outputs": [
        {
          "output_type": "execute_result",
          "data": {
            "text/plain": [
              "44714"
            ]
          },
          "metadata": {},
          "execution_count": 9
        }
      ]
    },
    {
      "cell_type": "code",
      "source": [
        "# 3. Retrieves the rows where a review is paid\n",
        "paid_df = helpful_df.filter(\"vine == 'Y'\")\n",
        "paid_df.show()"
      ],
      "metadata": {
        "id": "EfkXOPrs_qg8",
        "colab": {
          "base_uri": "https://localhost:8080/"
        },
        "outputId": "d6572c23-8b15-4ac8-deb4-1f14e242f62a"
      },
      "execution_count": 10,
      "outputs": [
        {
          "output_type": "stream",
          "name": "stdout",
          "text": [
            "+--------------+-----------+-------------+-----------+----+-----------------+\n",
            "|     review_id|star_rating|helpful_votes|total_votes|vine|verified_purchase|\n",
            "+--------------+-----------+-------------+-----------+----+-----------------+\n",
            "|R3JIGR122X50ZV|          5|       2280.0|     2314.0|   Y|                N|\n",
            "|R3KV8P8WLD2KKC|          5|        263.0|      286.0|   Y|                N|\n",
            "|R2LFY2ZPJ3J7RH|          4|         36.0|       38.0|   Y|                N|\n",
            "|R3P01OXMA0U0CA|          5|        114.0|      117.0|   Y|                N|\n",
            "|R2SCMXBD9OQP8Z|          2|         22.0|       26.0|   Y|                N|\n",
            "|R2FGS9ECOK5IQN|          5|         22.0|       23.0|   Y|                N|\n",
            "| R1V9CO41XS6QY|          2|         56.0|       58.0|   Y|                N|\n",
            "|R1LEP1JGXRY2YT|          2|         18.0|       20.0|   Y|                N|\n",
            "|R1ZWQJ3ZBSIZ1K|          4|         19.0|       21.0|   Y|                Y|\n",
            "| RX1G4FUE5HZGN|          3|         52.0|       58.0|   Y|                N|\n",
            "|R2V4NC4FH8IF1Y|          3|         58.0|       63.0|   Y|                N|\n",
            "|R1F1PGV3MEL818|          5|        142.0|      148.0|   Y|                N|\n",
            "| RFLM1DZ2O0ZE3|          4|         39.0|       39.0|   Y|                N|\n",
            "|R2BYBP0R21WYYC|          5|         30.0|       33.0|   Y|                N|\n",
            "|R28T0ZQLIYREBI|          5|         45.0|       47.0|   Y|                N|\n",
            "|R1EEZAMB8BAB4I|          5|         45.0|       49.0|   Y|                N|\n",
            "|R1MT9QOVCW2NSC|          5|         21.0|       24.0|   Y|                N|\n",
            "| R3W9PAL4OVHKD|          5|         35.0|       41.0|   Y|                N|\n",
            "| R1NMLNZD7JKLY|          5|         40.0|       44.0|   Y|                N|\n",
            "| RZ2TREG2ME3K7|          5|         26.0|       28.0|   Y|                N|\n",
            "+--------------+-----------+-------------+-----------+----+-----------------+\n",
            "only showing top 20 rows\n",
            "\n"
          ]
        }
      ]
    },
    {
      "cell_type": "code",
      "source": [
        "total_paid_review = paid_df.count()\n",
        "total_paid_review"
      ],
      "metadata": {
        "id": "WRWR4J3VBNka",
        "colab": {
          "base_uri": "https://localhost:8080/"
        },
        "outputId": "dad0a9f8-ac48-4991-d3f3-9243b8fd36a7"
      },
      "execution_count": 11,
      "outputs": [
        {
          "output_type": "execute_result",
          "data": {
            "text/plain": [
              "969"
            ]
          },
          "metadata": {},
          "execution_count": 11
        }
      ]
    },
    {
      "cell_type": "code",
      "source": [
        "# 4. Retrieves the rows where a review is unpaid\n",
        "unpaid_df = helpful_df.filter(\"vine == 'N'\")\n",
        "unpaid_df.show()"
      ],
      "metadata": {
        "id": "LbXadCIdBVyF",
        "colab": {
          "base_uri": "https://localhost:8080/"
        },
        "outputId": "86742eb2-84b7-4726-85f7-ca6aaf691cb2"
      },
      "execution_count": 12,
      "outputs": [
        {
          "output_type": "stream",
          "name": "stdout",
          "text": [
            "+--------------+-----------+-------------+-----------+----+-----------------+\n",
            "|     review_id|star_rating|helpful_votes|total_votes|vine|verified_purchase|\n",
            "+--------------+-----------+-------------+-----------+----+-----------------+\n",
            "|R243UXMMSSZVS6|          2|        254.0|      254.0|   N|                Y|\n",
            "|R2P92EHR0S5GBB|          1|        110.0|      159.0|   N|                Y|\n",
            "| RN93Z4XPNAANY|          5|         31.0|       31.0|   N|                Y|\n",
            "|R1O74T9XO3OPQ4|          5|         38.0|       38.0|   N|                Y|\n",
            "|R3DMIHE5BMUT0R|          3|         21.0|       21.0|   N|                Y|\n",
            "|R1QWY17NLHQSB5|          5|         36.0|       36.0|   N|                Y|\n",
            "|R3LANI678T2YQS|          5|         39.0|       47.0|   N|                N|\n",
            "| RLV4XQ49EBYYU|          1|         56.0|       65.0|   N|                Y|\n",
            "| RPBPAJKFD0T26|          5|         63.0|       63.0|   N|                Y|\n",
            "|R1IHO8C56KBN6C|          1|         61.0|       64.0|   N|                Y|\n",
            "|R3HZT0MTHYQBU7|          1|        221.0|      221.0|   N|                Y|\n",
            "|R1M9644S4471JU|          5|         20.0|       20.0|   N|                Y|\n",
            "| R6FPJVAWQ472P|          5|         33.0|       34.0|   N|                Y|\n",
            "| RYQ3KOWJLYPWW|          4|         19.0|       20.0|   N|                Y|\n",
            "|R2J6UYRU7AX8NS|          5|         23.0|       24.0|   N|                Y|\n",
            "|R32Y1KGXWPHEVP|          5|         44.0|       44.0|   N|                N|\n",
            "|R3M14RO30UBS32|          2|         22.0|       30.0|   N|                Y|\n",
            "|R1FJ1LLYMAIINJ|          2|         27.0|       28.0|   N|                Y|\n",
            "| RB32OZDWJ1MXB|          1|        161.0|      170.0|   N|                Y|\n",
            "|R1O5FVFCO6MEWX|          1|         41.0|       42.0|   N|                Y|\n",
            "+--------------+-----------+-------------+-----------+----+-----------------+\n",
            "only showing top 20 rows\n",
            "\n"
          ]
        }
      ]
    },
    {
      "cell_type": "code",
      "source": [
        "total_unpaid_review = unpaid_df.count()\n",
        "total_unpaid_review"
      ],
      "metadata": {
        "id": "V1lP3BnGBgyX",
        "colab": {
          "base_uri": "https://localhost:8080/"
        },
        "outputId": "70defb4d-15c8-491d-c35e-47ac97e9f19b"
      },
      "execution_count": 13,
      "outputs": [
        {
          "output_type": "execute_result",
          "data": {
            "text/plain": [
              "43745"
            ]
          },
          "metadata": {},
          "execution_count": 13
        }
      ]
    },
    {
      "cell_type": "code",
      "source": [
        "paid_five_star_review = paid_df.filter(\"star_rating == 5\").count()\n",
        "paid_five_star_review"
      ],
      "metadata": {
        "id": "vvbdUO0WD4-x",
        "colab": {
          "base_uri": "https://localhost:8080/"
        },
        "outputId": "b4c1e6ab-0207-4ca2-86e5-99887a849f65"
      },
      "execution_count": 14,
      "outputs": [
        {
          "output_type": "execute_result",
          "data": {
            "text/plain": [
              "430"
            ]
          },
          "metadata": {},
          "execution_count": 14
        }
      ]
    },
    {
      "cell_type": "code",
      "source": [
        "percentage_of_paid_five_star = (paid_five_star_review/total_paid_review) * 100\n",
        "percentage_of_paid_five_star"
      ],
      "metadata": {
        "id": "pqBCVpl2D4yx",
        "colab": {
          "base_uri": "https://localhost:8080/"
        },
        "outputId": "103ed002-9794-4fd2-99b3-14e5938eee17"
      },
      "execution_count": 15,
      "outputs": [
        {
          "output_type": "execute_result",
          "data": {
            "text/plain": [
              "44.375644994840044"
            ]
          },
          "metadata": {},
          "execution_count": 15
        }
      ]
    },
    {
      "cell_type": "code",
      "source": [
        "unpaid_five_star_review = unpaid_df.filter(\"star_rating == 5\").count()\n",
        "unpaid_five_star_review"
      ],
      "metadata": {
        "id": "CozkF9DlFMFL",
        "colab": {
          "base_uri": "https://localhost:8080/"
        },
        "outputId": "8f4f3c90-5f4b-4abc-a250-0e70d17c1e58"
      },
      "execution_count": 16,
      "outputs": [
        {
          "output_type": "execute_result",
          "data": {
            "text/plain": [
              "19233"
            ]
          },
          "metadata": {},
          "execution_count": 16
        }
      ]
    },
    {
      "cell_type": "code",
      "source": [
        "percentage_of_unpaid_five_star = (unpaid_five_star_review/total_unpaid_review) * 100\n",
        "percentage_of_unpaid_five_star"
      ],
      "metadata": {
        "id": "aMZ3qLOiFVi_",
        "colab": {
          "base_uri": "https://localhost:8080/"
        },
        "outputId": "4fbf980f-ae6c-4410-b521-43ed48eefee8"
      },
      "execution_count": 17,
      "outputs": [
        {
          "output_type": "execute_result",
          "data": {
            "text/plain": [
              "43.96616756200709"
            ]
          },
          "metadata": {},
          "execution_count": 17
        }
      ]
    },
    {
      "cell_type": "code",
      "source": [
        "# 5. Create a new DataFrame to make a summary list\n",
        "from pyspark.sql.types import StructType, StructField, StringType, IntegerType, FloatType\n",
        "data = [\n",
        "    (\"All Reviews\", \"No Filter\", all_review),\n",
        "    (\"Valid Reviews\", \"Review Count >= 20\", valid_review),\n",
        "    (\"Helpful Reviews\", \"Helpful Votes/Total Votes >= 50% in Valid Reviews\", helpful_review),\n",
        "    (\"Total Paid Reviews\", \"Get Paid in Helpful Reviews\", total_paid_review),\n",
        "    (\"Total Unpaid Reviews\", \"Not Paid in Helpful Reviews\", total_unpaid_review),\n",
        "    (\"Paid Five Star Reviews\", \"5-star in Total paid Reviews \", paid_five_star_review),\n",
        "    (\"Unpaid Five Star Reviews\", \"5-star in Total Unpaid Reviews \", unpaid_five_star_review),\n",
        "    (\"Percentage of Paid 5-star Reviews\", \"Paid 5-star Reviews to %\", round(percentage_of_paid_five_star, 2)),\n",
        "    (\"Percentage of Unpaid 5-star Reviews\", \"Unpaid 5-star Reviews to %\", round(percentage_of_unpaid_five_star, 2))\n",
        "]\n",
        "\n",
        "schema = StructType([\n",
        "    StructField(\"Summary\", StringType(), True),\\\n",
        "    StructField(\"Filter\", StringType(), True),\\\n",
        "    StructField(\"Result\", StringType(), True),\\\n",
        "])\n",
        "\n",
        "Summary_df = spark.createDataFrame(data=data, schema=schema) \n",
        "Summary_df.printSchema()\n",
        "Summary_df.show(truncate=False)"
      ],
      "metadata": {
        "id": "VtClLACEBrFH",
        "colab": {
          "base_uri": "https://localhost:8080/"
        },
        "outputId": "6ec1ef08-5e9f-4dac-adf3-9f3a88cb5082"
      },
      "execution_count": 18,
      "outputs": [
        {
          "output_type": "stream",
          "name": "stdout",
          "text": [
            "root\n",
            " |-- Summary: string (nullable = true)\n",
            " |-- Filter: string (nullable = true)\n",
            " |-- Result: string (nullable = true)\n",
            "\n",
            "+-----------------------------------+-------------------------------------------------+-------+\n",
            "|Summary                            |Filter                                           |Result |\n",
            "+-----------------------------------+-------------------------------------------------+-------+\n",
            "|All Reviews                        |No Filter                                        |2642434|\n",
            "|Valid Reviews                      |Review Count >= 20                               |48163  |\n",
            "|Helpful Reviews                    |Helpful Votes/Total Votes >= 50% in Valid Reviews|44714  |\n",
            "|Total Paid Reviews                 |Get Paid in Helpful Reviews                      |969    |\n",
            "|Total Unpaid Reviews               |Not Paid in Helpful Reviews                      |43745  |\n",
            "|Paid Five Star Reviews             |5-star in Total paid Reviews                     |430    |\n",
            "|Unpaid Five Star Reviews           |5-star in Total Unpaid Reviews                   |19233  |\n",
            "|Percentage of Paid 5-star Reviews  |Paid 5-star Reviews to %                         |44.38  |\n",
            "|Percentage of Unpaid 5-star Reviews|Unpaid 5-star Reviews to %                       |43.97  |\n",
            "+-----------------------------------+-------------------------------------------------+-------+\n",
            "\n"
          ]
        }
      ]
    }
  ]
}